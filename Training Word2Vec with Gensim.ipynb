{
 "cells": [
  {
   "cell_type": "code",
   "execution_count": 31,
   "id": "1a2d8a51",
   "metadata": {},
   "outputs": [
    {
     "data": {
      "text/plain": [
       "'CNN is great. Python is a good language. You can learn CNN using Python. '"
      ]
     },
     "execution_count": 31,
     "metadata": {},
     "output_type": "execute_result"
    }
   ],
   "source": [
    "from gensim.models import Word2Vec\n",
    "from gensim.utils import tokenize\n",
    "from gensim.parsing.preprocessing import remove_stopwords\n",
    "\n",
    "s1 = \"CNN is great. \"\n",
    "s2 = 'Python is a good language. '\n",
    "s3 = 'You can learn CNN using Python. '\n",
    "doc = s1 + s2 + s3\n",
    "doc"
   ]
  },
  {
   "cell_type": "code",
   "execution_count": 32,
   "id": "56ab978e",
   "metadata": {},
   "outputs": [
    {
     "data": {
      "text/plain": [
       "'CNN great. Python good language. You learn CNN Python.'"
      ]
     },
     "execution_count": 32,
     "metadata": {},
     "output_type": "execute_result"
    }
   ],
   "source": [
    "doc = remove_stopwords(doc)\n",
    "doc"
   ]
  },
  {
   "cell_type": "code",
   "execution_count": 33,
   "id": "903573ec",
   "metadata": {},
   "outputs": [
    {
     "data": {
      "text/plain": [
       "[['CNN',\n",
       "  'great',\n",
       "  'Python',\n",
       "  'good',\n",
       "  'language',\n",
       "  'You',\n",
       "  'learn',\n",
       "  'CNN',\n",
       "  'Python']]"
      ]
     },
     "execution_count": 33,
     "metadata": {},
     "output_type": "execute_result"
    }
   ],
   "source": [
    "tk_doc = [list(tokenize(doc, deacc=True))]\n",
    "tk_doc"
   ]
  },
  {
   "cell_type": "markdown",
   "id": "d385fd77",
   "metadata": {},
   "source": [
    "# Training"
   ]
  },
  {
   "cell_type": "code",
   "execution_count": 34,
   "id": "a9aeed65",
   "metadata": {},
   "outputs": [
    {
     "name": "stdout",
     "output_type": "stream",
     "text": [
      "Word2Vec(vocab=7, vector_size=5, alpha=0.025)\n"
     ]
    }
   ],
   "source": [
    "#(input_doc, vector_size, window คือจำนวนคำข้างเคียง, \n",
    "#min_count คือ จำนวนคำที่นำมาคิด เช่น ถ้า 2 = ถ้าคำนั้นอยู่ในประโยคแค่ 1 คำจะไม่นำมาประมวล,\n",
    "#workers คือ จำนวน Thread ที่จะรันระหว่างการ Training,\n",
    "#sg คือ วิธีที่จะใช้ sg=1 คือ CBOW, sg=0 คือ Skip-gram, epochs to train)\n",
    "\n",
    "model = Word2Vec(tk_doc, vector_size=5, window=1, min_count=1, sg=0, workers=4, epochs=50)\n",
    "print(model)"
   ]
  },
  {
   "cell_type": "code",
   "execution_count": 35,
   "id": "0fcbc956",
   "metadata": {},
   "outputs": [
    {
     "name": "stdout",
     "output_type": "stream",
     "text": [
      "0 Python\n",
      "1 CNN\n",
      "2 learn\n",
      "3 You\n",
      "4 language\n",
      "5 good\n",
      "6 great\n"
     ]
    }
   ],
   "source": [
    "#check what words that model contains\n",
    "for index, word in enumerate(model.wv.index_to_key):\n",
    "    print(index, word)"
   ]
  },
  {
   "cell_type": "code",
   "execution_count": 36,
   "id": "73340215",
   "metadata": {},
   "outputs": [
    {
     "data": {
      "text/plain": [
       "[('great', 0.932443380355835),\n",
       " ('CNN', 0.7744607925415039),\n",
       " ('You', 0.7672737240791321),\n",
       " ('Python', 0.0001095528932637535),\n",
       " ('language', -0.1528887301683426),\n",
       " ('learn', -0.6138823628425598)]"
      ]
     },
     "execution_count": 36,
     "metadata": {},
     "output_type": "execute_result"
    }
   ],
   "source": [
    "#find similarity\n",
    "model.wv.most_similar('good')"
   ]
  },
  {
   "cell_type": "markdown",
   "id": "f2d62419",
   "metadata": {},
   "source": [
    "# Plot to explore the vectors\n",
    "because it's 5 of vector size, so PCA to 2 before plotting"
   ]
  },
  {
   "cell_type": "code",
   "execution_count": 40,
   "id": "dc081768",
   "metadata": {},
   "outputs": [
    {
     "name": "stdout",
     "output_type": "stream",
     "text": [
      "['Python' 'CNN' 'learn' 'You' 'language' 'good' 'great']\n"
     ]
    },
    {
     "data": {
      "text/plain": [
       "(7,)"
      ]
     },
     "execution_count": 40,
     "metadata": {},
     "output_type": "execute_result"
    }
   ],
   "source": [
    "import numpy as np\n",
    "import matplotlib.pyplot as plt\n",
    "import pandas as pd\n",
    "\n",
    "labels = np.asarray(model.wv.index_to_key)\n",
    "print(labels)\n",
    "labels.shape"
   ]
  },
  {
   "cell_type": "code",
   "execution_count": 41,
   "id": "60250a3a",
   "metadata": {},
   "outputs": [
    {
     "data": {
      "text/plain": [
       "(7, 5)"
      ]
     },
     "execution_count": 41,
     "metadata": {},
     "output_type": "execute_result"
    }
   ],
   "source": [
    "vectors = np.asarray(model.wv.vectors)\n",
    "vectors.shape"
   ]
  },
  {
   "cell_type": "code",
   "execution_count": 42,
   "id": "0d896614",
   "metadata": {},
   "outputs": [
    {
     "data": {
      "text/html": [
       "<div>\n",
       "<style scoped>\n",
       "    .dataframe tbody tr th:only-of-type {\n",
       "        vertical-align: middle;\n",
       "    }\n",
       "\n",
       "    .dataframe tbody tr th {\n",
       "        vertical-align: top;\n",
       "    }\n",
       "\n",
       "    .dataframe thead th {\n",
       "        text-align: right;\n",
       "    }\n",
       "</style>\n",
       "<table border=\"1\" class=\"dataframe\">\n",
       "  <thead>\n",
       "    <tr style=\"text-align: right;\">\n",
       "      <th></th>\n",
       "      <th>0</th>\n",
       "      <th>1</th>\n",
       "      <th>2</th>\n",
       "      <th>3</th>\n",
       "      <th>4</th>\n",
       "    </tr>\n",
       "  </thead>\n",
       "  <tbody>\n",
       "    <tr>\n",
       "      <th>Python</th>\n",
       "      <td>-0.010832</td>\n",
       "      <td>0.004699</td>\n",
       "      <td>0.102231</td>\n",
       "      <td>0.180137</td>\n",
       "      <td>-0.186146</td>\n",
       "    </tr>\n",
       "    <tr>\n",
       "      <th>CNN</th>\n",
       "      <td>-0.142510</td>\n",
       "      <td>0.129310</td>\n",
       "      <td>0.179744</td>\n",
       "      <td>-0.100395</td>\n",
       "      <td>-0.075400</td>\n",
       "    </tr>\n",
       "    <tr>\n",
       "      <th>learn</th>\n",
       "      <td>0.147483</td>\n",
       "      <td>-0.030526</td>\n",
       "      <td>-0.090519</td>\n",
       "      <td>0.130974</td>\n",
       "      <td>-0.097297</td>\n",
       "    </tr>\n",
       "    <tr>\n",
       "      <th>You</th>\n",
       "      <td>-0.036443</td>\n",
       "      <td>0.057630</td>\n",
       "      <td>0.019984</td>\n",
       "      <td>-0.165826</td>\n",
       "      <td>-0.189044</td>\n",
       "    </tr>\n",
       "    <tr>\n",
       "      <th>language</th>\n",
       "      <td>0.146156</td>\n",
       "      <td>0.101447</td>\n",
       "      <td>0.135307</td>\n",
       "      <td>0.015251</td>\n",
       "      <td>0.126936</td>\n",
       "    </tr>\n",
       "    <tr>\n",
       "      <th>good</th>\n",
       "      <td>-0.068186</td>\n",
       "      <td>-0.018861</td>\n",
       "      <td>0.115460</td>\n",
       "      <td>-0.150512</td>\n",
       "      <td>-0.078786</td>\n",
       "    </tr>\n",
       "    <tr>\n",
       "      <th>great</th>\n",
       "      <td>-0.150230</td>\n",
       "      <td>-0.018602</td>\n",
       "      <td>0.190760</td>\n",
       "      <td>-0.146382</td>\n",
       "      <td>-0.046674</td>\n",
       "    </tr>\n",
       "  </tbody>\n",
       "</table>\n",
       "</div>"
      ],
      "text/plain": [
       "                 0         1         2         3         4\n",
       "Python   -0.010832  0.004699  0.102231  0.180137 -0.186146\n",
       "CNN      -0.142510  0.129310  0.179744 -0.100395 -0.075400\n",
       "learn     0.147483 -0.030526 -0.090519  0.130974 -0.097297\n",
       "You      -0.036443  0.057630  0.019984 -0.165826 -0.189044\n",
       "language  0.146156  0.101447  0.135307  0.015251  0.126936\n",
       "good     -0.068186 -0.018861  0.115460 -0.150512 -0.078786\n",
       "great    -0.150230 -0.018602  0.190760 -0.146382 -0.046674"
      ]
     },
     "execution_count": 42,
     "metadata": {},
     "output_type": "execute_result"
    }
   ],
   "source": [
    "pd.DataFrame(vectors, index=labels, columns=None)"
   ]
  },
  {
   "cell_type": "code",
   "execution_count": 43,
   "id": "92029948",
   "metadata": {},
   "outputs": [
    {
     "data": {
      "text/html": [
       "<div>\n",
       "<style scoped>\n",
       "    .dataframe tbody tr th:only-of-type {\n",
       "        vertical-align: middle;\n",
       "    }\n",
       "\n",
       "    .dataframe tbody tr th {\n",
       "        vertical-align: top;\n",
       "    }\n",
       "\n",
       "    .dataframe thead th {\n",
       "        text-align: right;\n",
       "    }\n",
       "</style>\n",
       "<table border=\"1\" class=\"dataframe\">\n",
       "  <thead>\n",
       "    <tr style=\"text-align: right;\">\n",
       "      <th></th>\n",
       "      <th>0</th>\n",
       "      <th>1</th>\n",
       "    </tr>\n",
       "  </thead>\n",
       "  <tbody>\n",
       "    <tr>\n",
       "      <th>Python</th>\n",
       "      <td>0.150366</td>\n",
       "      <td>-0.113411</td>\n",
       "    </tr>\n",
       "    <tr>\n",
       "      <th>CNN</th>\n",
       "      <td>-0.162506</td>\n",
       "      <td>0.021170</td>\n",
       "    </tr>\n",
       "    <tr>\n",
       "      <th>learn</th>\n",
       "      <td>0.287608</td>\n",
       "      <td>-0.055602</td>\n",
       "    </tr>\n",
       "    <tr>\n",
       "      <th>You</th>\n",
       "      <td>-0.081777</td>\n",
       "      <td>-0.105564</td>\n",
       "    </tr>\n",
       "    <tr>\n",
       "      <th>language</th>\n",
       "      <td>0.114512</td>\n",
       "      <td>0.252525</td>\n",
       "    </tr>\n",
       "    <tr>\n",
       "      <th>good</th>\n",
       "      <td>-0.117247</td>\n",
       "      <td>-0.012159</td>\n",
       "    </tr>\n",
       "    <tr>\n",
       "      <th>great</th>\n",
       "      <td>-0.190955</td>\n",
       "      <td>0.013041</td>\n",
       "    </tr>\n",
       "  </tbody>\n",
       "</table>\n",
       "</div>"
      ],
      "text/plain": [
       "                 0         1\n",
       "Python    0.150366 -0.113411\n",
       "CNN      -0.162506  0.021170\n",
       "learn     0.287608 -0.055602\n",
       "You      -0.081777 -0.105564\n",
       "language  0.114512  0.252525\n",
       "good     -0.117247 -0.012159\n",
       "great    -0.190955  0.013041"
      ]
     },
     "execution_count": 43,
     "metadata": {},
     "output_type": "execute_result"
    }
   ],
   "source": [
    "#PCA\n",
    "from sklearn.decomposition import PCA\n",
    "pca = PCA(n_components=2)\n",
    "reduced_dim = pca.fit_transform(vectors)\n",
    "pd.DataFrame(reduced_dim, index=labels, columns=None)"
   ]
  },
  {
   "cell_type": "code",
   "execution_count": 45,
   "id": "cb3b9506",
   "metadata": {},
   "outputs": [
    {
     "data": {
      "image/png": "[encoded data removed]",
      "text/plain": [
       "<Figure size 432x288 with 1 Axes>"
      ]
     },
     "metadata": {
      "needs_background": "light"
     },
     "output_type": "display_data"
    }
   ],
   "source": [
    "plt.scatter(reduced_dim[:, 0], reduced_dim[:, 1])\n",
    "for i, label in enumerate(labels):\n",
    "    plt.annotate(label, xy=(reduced_dim[i, 0]+0.005, reduced_dim[i, 1]+0.005))\n",
    "plt.show()"
   ]
  },
  {
   "cell_type": "code",
   "execution_count": 46,
   "id": "22001bb6",
   "metadata": {},
   "outputs": [],
   "source": [
    "model.save('testWord2Vec.model')"
   ]
  },
  {
   "cell_type": "code",
   "execution_count": 47,
   "id": "04208aa1",
   "metadata": {},
   "outputs": [
    {
     "data": {
      "text/plain": [
       "[('great', 0.932443380355835),\n",
       " ('CNN', 0.7744607925415039),\n",
       " ('You', 0.7672737240791321),\n",
       " ('Python', 0.0001095528932637535),\n",
       " ('language', -0.1528887301683426),\n",
       " ('learn', -0.6138823628425598)]"
      ]
     },
     "execution_count": 47,
     "metadata": {},
     "output_type": "execute_result"
    }
   ],
   "source": [
    "trained_model = Word2Vec.load('testWord2Vec.model')\n",
    "trained_model.wv.most_similar('good')"
   ]
  }
 ],
 "metadata": {
  "kernelspec": {
   "display_name": "Tensorflow M1",
   "language": "python",
   "name": "tf_m1"
  },
  "language_info": {
   "codemirror_mode": {
    "name": "ipython",
    "version": 3
   },
   "file_extension": ".py",
   "mimetype": "text/x-python",
   "name": "python",
   "nbconvert_exporter": "python",
   "pygments_lexer": "ipython3",
   "version": "3.9.10"
  }
 },
 "nbformat": 4,
 "nbformat_minor": 5
}
